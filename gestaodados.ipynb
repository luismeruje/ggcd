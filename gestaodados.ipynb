{
  "nbformat": 4,
  "nbformat_minor": 0,
  "metadata": {
    "colab": {
      "name": "gestaodados.ipynb",
      "version": "0.3.2",
      "provenance": [],
      "collapsed_sections": []
    },
    "kernelspec": {
      "name": "python3",
      "display_name": "Python 3"
    }
  },
  "cells": [
    {
      "cell_type": "code",
      "metadata": {
        "id": "sSrtFHWcuGWe",
        "colab_type": "code",
        "colab": {
          "base_uri": "https://localhost:8080/",
          "height": 183
        },
        "outputId": "15557782-a36e-4df5-f9eb-1a4a43d020a8"
      },
      "source": [
        "from google.colab import auth\n",
        "auth.authenticate_user()\n",
        "print('Authenticated')"
      ],
      "execution_count": 1,
      "outputs": [
        {
          "output_type": "stream",
          "text": [
            "Authenticated\n"
          ],
          "name": "stdout"
        }
      ]
    },
    {
      "cell_type": "code",
      "metadata": {
        "id": "p1d_PJFuuUls",
        "colab_type": "code",
        "colab": {}
      },
      "source": [
        "project_id = 'glassy-mystery-232515'"
      ],
      "execution_count": 0,
      "outputs": []
    },
    {
      "cell_type": "code",
      "metadata": {
        "id": "mM-I8Jx-uh7_",
        "colab_type": "code",
        "colab": {}
      },
      "source": [
        "query_place='''\n",
        "  #standardSQL\n",
        "SELECT count(reference), place\n",
        "FROM `ggcd.tweet`\n",
        "GROUP BY place\n",
        "'''\n",
        "\n"
      ],
      "execution_count": 0,
      "outputs": []
    },
    {
      "cell_type": "code",
      "metadata": {
        "id": "wqWK3b8BxqMU",
        "colab_type": "code",
        "colab": {}
      },
      "source": [
        "import pandas as pd\n",
        "import seaborn as sns\n",
        "import matplotlib.pyplot as plt\n",
        "import numpy as np\n",
        "from pandas.io import gbq"
      ],
      "execution_count": 0,
      "outputs": []
    },
    {
      "cell_type": "code",
      "metadata": {
        "id": "YV80_2D2xJ3O",
        "colab_type": "code",
        "colab": {
          "base_uri": "https://localhost:8080/",
          "height": 111
        },
        "outputId": "ccf9f2e2-a49f-4aea-d03e-cbc055f37f90"
      },
      "source": [
        "questions = gbq.read_gbq(query=query_place, dialect ='standard', project_id=project_id)\n",
        "questions"
      ],
      "execution_count": 5,
      "outputs": [
        {
          "output_type": "execute_result",
          "data": {
            "text/html": [
              "<div>\n",
              "<style scoped>\n",
              "    .dataframe tbody tr th:only-of-type {\n",
              "        vertical-align: middle;\n",
              "    }\n",
              "\n",
              "    .dataframe tbody tr th {\n",
              "        vertical-align: top;\n",
              "    }\n",
              "\n",
              "    .dataframe thead th {\n",
              "        text-align: right;\n",
              "    }\n",
              "</style>\n",
              "<table border=\"1\" class=\"dataframe\">\n",
              "  <thead>\n",
              "    <tr style=\"text-align: right;\">\n",
              "      <th></th>\n",
              "      <th>f0_</th>\n",
              "      <th>place</th>\n",
              "    </tr>\n",
              "  </thead>\n",
              "  <tbody>\n",
              "    <tr>\n",
              "      <th>0</th>\n",
              "      <td>24</td>\n",
              "      <td>McIntosh Lake:US</td>\n",
              "    </tr>\n",
              "    <tr>\n",
              "      <th>1</th>\n",
              "      <td>3</td>\n",
              "      <td>Braga</td>\n",
              "    </tr>\n",
              "  </tbody>\n",
              "</table>\n",
              "</div>"
            ],
            "text/plain": [
              "   f0_             place\n",
              "0   24  McIntosh Lake:US\n",
              "1    3             Braga"
            ]
          },
          "metadata": {
            "tags": []
          },
          "execution_count": 5
        }
      ]
    },
    {
      "cell_type": "code",
      "metadata": {
        "id": "ATiEWVp6xsT2",
        "colab_type": "code",
        "colab": {}
      },
      "source": [
        "query='''\n",
        "  #standardSQL\n",
        "SELECT count(*)\n",
        "FROM `ggcd.image`\n",
        "'''\n",
        "\n"
      ],
      "execution_count": 0,
      "outputs": []
    },
    {
      "cell_type": "code",
      "metadata": {
        "id": "8pU8ftuEoBFk",
        "colab_type": "code",
        "colab": {
          "base_uri": "https://localhost:8080/",
          "height": 80
        },
        "outputId": "16026e17-c3b0-49b2-d05f-13792149eb79"
      },
      "source": [
        "images = gbq.read_gbq(query=query, dialect ='standard', project_id=project_id)\n",
        "images"
      ],
      "execution_count": 9,
      "outputs": [
        {
          "output_type": "execute_result",
          "data": {
            "text/html": [
              "<div>\n",
              "<style scoped>\n",
              "    .dataframe tbody tr th:only-of-type {\n",
              "        vertical-align: middle;\n",
              "    }\n",
              "\n",
              "    .dataframe tbody tr th {\n",
              "        vertical-align: top;\n",
              "    }\n",
              "\n",
              "    .dataframe thead th {\n",
              "        text-align: right;\n",
              "    }\n",
              "</style>\n",
              "<table border=\"1\" class=\"dataframe\">\n",
              "  <thead>\n",
              "    <tr style=\"text-align: right;\">\n",
              "      <th></th>\n",
              "      <th>f0_</th>\n",
              "    </tr>\n",
              "  </thead>\n",
              "  <tbody>\n",
              "    <tr>\n",
              "      <th>0</th>\n",
              "      <td>37</td>\n",
              "    </tr>\n",
              "  </tbody>\n",
              "</table>\n",
              "</div>"
            ],
            "text/plain": [
              "   f0_\n",
              "0   37"
            ]
          },
          "metadata": {
            "tags": []
          },
          "execution_count": 9
        }
      ]
    },
    {
      "cell_type": "code",
      "metadata": {
        "id": "NeOR5AmNoezV",
        "colab_type": "code",
        "colab": {}
      },
      "source": [
        "query_hashtag='''\n",
        "  #standardSQL\n",
        "SELECT count(*)\n",
        "FROM `ggcd.hashtag`\n",
        "'''\n",
        "\n",
        "\n"
      ],
      "execution_count": 0,
      "outputs": []
    },
    {
      "cell_type": "code",
      "metadata": {
        "id": "wZM2IQz4okCR",
        "colab_type": "code",
        "colab": {
          "base_uri": "https://localhost:8080/",
          "height": 80
        },
        "outputId": "2cad8a22-2066-4edf-ca1e-8707e4dc511e"
      },
      "source": [
        "hashtags = gbq.read_gbq(query=query_hashtag, dialect ='standard', project_id=project_id)\n",
        "hashtags"
      ],
      "execution_count": 17,
      "outputs": [
        {
          "output_type": "execute_result",
          "data": {
            "text/html": [
              "<div>\n",
              "<style scoped>\n",
              "    .dataframe tbody tr th:only-of-type {\n",
              "        vertical-align: middle;\n",
              "    }\n",
              "\n",
              "    .dataframe tbody tr th {\n",
              "        vertical-align: top;\n",
              "    }\n",
              "\n",
              "    .dataframe thead th {\n",
              "        text-align: right;\n",
              "    }\n",
              "</style>\n",
              "<table border=\"1\" class=\"dataframe\">\n",
              "  <thead>\n",
              "    <tr style=\"text-align: right;\">\n",
              "      <th></th>\n",
              "      <th>f0_</th>\n",
              "    </tr>\n",
              "  </thead>\n",
              "  <tbody>\n",
              "    <tr>\n",
              "      <th>0</th>\n",
              "      <td>20</td>\n",
              "    </tr>\n",
              "  </tbody>\n",
              "</table>\n",
              "</div>"
            ],
            "text/plain": [
              "   f0_\n",
              "0   20"
            ]
          },
          "metadata": {
            "tags": []
          },
          "execution_count": 17
        }
      ]
    },
    {
      "cell_type": "code",
      "metadata": {
        "id": "JbUsDR1Uo4w5",
        "colab_type": "code",
        "colab": {}
      },
      "source": [
        "query_top_hashtag='''\n",
        "  #standardSQL\n",
        "SELECT count(*), text\n",
        "FROM `ggcd.hashtag`\n",
        "GROUP BY TEXT\n",
        "LIMIT 5\n",
        "'''\n",
        "\n",
        "\n"
      ],
      "execution_count": 0,
      "outputs": []
    },
    {
      "cell_type": "code",
      "metadata": {
        "id": "LfXY_M0IpL6J",
        "colab_type": "code",
        "colab": {
          "base_uri": "https://localhost:8080/",
          "height": 80
        },
        "outputId": "ece2028e-8721-4f5e-b324-0821df5e70a6"
      },
      "source": [
        "hashtags_top = gbq.read_gbq(query=query_top_hashtag, dialect ='standard', project_id=project_id)\n",
        "hashtags_top\n",
        "\n"
      ],
      "execution_count": 23,
      "outputs": [
        {
          "output_type": "execute_result",
          "data": {
            "text/html": [
              "<div>\n",
              "<style scoped>\n",
              "    .dataframe tbody tr th:only-of-type {\n",
              "        vertical-align: middle;\n",
              "    }\n",
              "\n",
              "    .dataframe tbody tr th {\n",
              "        vertical-align: top;\n",
              "    }\n",
              "\n",
              "    .dataframe thead th {\n",
              "        text-align: right;\n",
              "    }\n",
              "</style>\n",
              "<table border=\"1\" class=\"dataframe\">\n",
              "  <thead>\n",
              "    <tr style=\"text-align: right;\">\n",
              "      <th></th>\n",
              "      <th>f0_</th>\n",
              "      <th>text</th>\n",
              "    </tr>\n",
              "  </thead>\n",
              "  <tbody>\n",
              "    <tr>\n",
              "      <th>0</th>\n",
              "      <td>20</td>\n",
              "      <td>MaineAkHypeBandOnEB</td>\n",
              "    </tr>\n",
              "  </tbody>\n",
              "</table>\n",
              "</div>"
            ],
            "text/plain": [
              "   f0_                 text\n",
              "0   20  MaineAkHypeBandOnEB"
            ]
          },
          "metadata": {
            "tags": []
          },
          "execution_count": 23
        }
      ]
    },
    {
      "cell_type": "code",
      "metadata": {
        "id": "-nXdozv3qFd6",
        "colab_type": "code",
        "colab": {}
      },
      "source": [
        "query_top3_labels='''\n",
        "  #standardSQL\n",
        "SELECT count(*), label_1\n",
        "FROM `ggcd.image`\n",
        "GROUP BY label_1\n",
        "ORDER BY count(*) DESC\n",
        "LIMIT 3\n",
        "'''\n"
      ],
      "execution_count": 0,
      "outputs": []
    },
    {
      "cell_type": "code",
      "metadata": {
        "id": "Aad5G69SqScO",
        "colab_type": "code",
        "colab": {
          "base_uri": "https://localhost:8080/",
          "height": 142
        },
        "outputId": "c2b0b4cd-2d30-4ded-ea19-e46a282bcb29"
      },
      "source": [
        "label1_top = gbq.read_gbq(query=query_top3_labels, dialect ='standard', project_id=project_id)\n",
        "label1_top\n",
        "\n"
      ],
      "execution_count": 57,
      "outputs": [
        {
          "output_type": "execute_result",
          "data": {
            "text/html": [
              "<div>\n",
              "<style scoped>\n",
              "    .dataframe tbody tr th:only-of-type {\n",
              "        vertical-align: middle;\n",
              "    }\n",
              "\n",
              "    .dataframe tbody tr th {\n",
              "        vertical-align: top;\n",
              "    }\n",
              "\n",
              "    .dataframe thead th {\n",
              "        text-align: right;\n",
              "    }\n",
              "</style>\n",
              "<table border=\"1\" class=\"dataframe\">\n",
              "  <thead>\n",
              "    <tr style=\"text-align: right;\">\n",
              "      <th></th>\n",
              "      <th>f0_</th>\n",
              "      <th>label_1</th>\n",
              "    </tr>\n",
              "  </thead>\n",
              "  <tbody>\n",
              "    <tr>\n",
              "      <th>0</th>\n",
              "      <td>13</td>\n",
              "      <td>lakeside</td>\n",
              "    </tr>\n",
              "    <tr>\n",
              "      <th>1</th>\n",
              "      <td>11</td>\n",
              "      <td>ski</td>\n",
              "    </tr>\n",
              "    <tr>\n",
              "      <th>2</th>\n",
              "      <td>8</td>\n",
              "      <td>alp</td>\n",
              "    </tr>\n",
              "  </tbody>\n",
              "</table>\n",
              "</div>"
            ],
            "text/plain": [
              "   f0_   label_1\n",
              "0   13  lakeside\n",
              "1   11       ski\n",
              "2    8       alp"
            ]
          },
          "metadata": {
            "tags": []
          },
          "execution_count": 57
        }
      ]
    },
    {
      "cell_type": "code",
      "metadata": {
        "id": "zoymDqRArJ_D",
        "colab_type": "code",
        "colab": {}
      },
      "source": [
        "query_tweet='''\n",
        "  #standardSQL\n",
        "SELECT *\n",
        "FROM `ggcd.image`\n",
        "LIMIT 5\n",
        "'''\n",
        "\n"
      ],
      "execution_count": 0,
      "outputs": []
    },
    {
      "cell_type": "code",
      "metadata": {
        "id": "WeN505tErWqE",
        "colab_type": "code",
        "colab": {
          "base_uri": "https://localhost:8080/",
          "height": 204
        },
        "outputId": "e9293bcd-55c9-4122-fe8b-e3af92befa62"
      },
      "source": [
        "images5 = gbq.read_gbq(query=query_tweet, dialect ='standard', project_id=project_id)\n",
        "images5"
      ],
      "execution_count": 64,
      "outputs": [
        {
          "output_type": "execute_result",
          "data": {
            "text/html": [
              "<div>\n",
              "<style scoped>\n",
              "    .dataframe tbody tr th:only-of-type {\n",
              "        vertical-align: middle;\n",
              "    }\n",
              "\n",
              "    .dataframe tbody tr th {\n",
              "        vertical-align: top;\n",
              "    }\n",
              "\n",
              "    .dataframe thead th {\n",
              "        text-align: right;\n",
              "    }\n",
              "</style>\n",
              "<table border=\"1\" class=\"dataframe\">\n",
              "  <thead>\n",
              "    <tr style=\"text-align: right;\">\n",
              "      <th></th>\n",
              "      <th>reference</th>\n",
              "      <th>tweet_id</th>\n",
              "      <th>label_1</th>\n",
              "      <th>label_2</th>\n",
              "      <th>label_3</th>\n",
              "      <th>label_4</th>\n",
              "      <th>label_5</th>\n",
              "    </tr>\n",
              "  </thead>\n",
              "  <tbody>\n",
              "    <tr>\n",
              "      <th>0</th>\n",
              "      <td>http://pbs.twimg.com/media/C_Udn4nUMAAgcIa.jpg</td>\n",
              "      <td>1046648167884681216</td>\n",
              "      <td>sliding_door</td>\n",
              "      <td>window_shade</td>\n",
              "      <td>window_screen</td>\n",
              "      <td>china_cabinet</td>\n",
              "      <td>dining_table</td>\n",
              "    </tr>\n",
              "    <tr>\n",
              "      <th>1</th>\n",
              "      <td>http://pbs.twimg.com/media/C_UdnvPVYAAZbEs.jpg</td>\n",
              "      <td>1046648167884681216</td>\n",
              "      <td>ski</td>\n",
              "      <td>pole</td>\n",
              "      <td>alp</td>\n",
              "      <td>crane</td>\n",
              "      <td>traffic_light</td>\n",
              "    </tr>\n",
              "    <tr>\n",
              "      <th>2</th>\n",
              "      <td>http://pbs.twimg.com/media/C_UdnvPUwAE3Dnn.jpg</td>\n",
              "      <td>1046648167884681216</td>\n",
              "      <td>lakeside</td>\n",
              "      <td>sandbar</td>\n",
              "      <td>car_mirror</td>\n",
              "      <td>boathouse</td>\n",
              "      <td>canoe</td>\n",
              "    </tr>\n",
              "    <tr>\n",
              "      <th>3</th>\n",
              "      <td>http://pbs.twimg.com/media/C_Udn2UUQAADZIS.jpg</td>\n",
              "      <td>1046648167884681216</td>\n",
              "      <td>alp</td>\n",
              "      <td>snowmobile</td>\n",
              "      <td>street_sign</td>\n",
              "      <td>stone_wall</td>\n",
              "      <td>trailer_truck</td>\n",
              "    </tr>\n",
              "    <tr>\n",
              "      <th>4</th>\n",
              "      <td>http://pbs.twimg.com/media/C_Udn2UUQAADZIS.jpg</td>\n",
              "      <td>1046648167884681216</td>\n",
              "      <td>alp</td>\n",
              "      <td>snowmobile</td>\n",
              "      <td>street_sign</td>\n",
              "      <td>stone_wall</td>\n",
              "      <td>trailer_truck</td>\n",
              "    </tr>\n",
              "  </tbody>\n",
              "</table>\n",
              "</div>"
            ],
            "text/plain": [
              "                                        reference  ...        label_5\n",
              "0  http://pbs.twimg.com/media/C_Udn4nUMAAgcIa.jpg  ...   dining_table\n",
              "1  http://pbs.twimg.com/media/C_UdnvPVYAAZbEs.jpg  ...  traffic_light\n",
              "2  http://pbs.twimg.com/media/C_UdnvPUwAE3Dnn.jpg  ...          canoe\n",
              "3  http://pbs.twimg.com/media/C_Udn2UUQAADZIS.jpg  ...  trailer_truck\n",
              "4  http://pbs.twimg.com/media/C_Udn2UUQAADZIS.jpg  ...  trailer_truck\n",
              "\n",
              "[5 rows x 7 columns]"
            ]
          },
          "metadata": {
            "tags": []
          },
          "execution_count": 64
        }
      ]
    },
    {
      "cell_type": "code",
      "metadata": {
        "id": "qv4fIIfFvPvM",
        "colab_type": "code",
        "colab": {
          "base_uri": "https://localhost:8080/",
          "height": 102
        },
        "outputId": "c1c5a4ff-61e0-4442-b3ba-f5fc5290e510"
      },
      "source": [
        "for t in images5['reference']:\n",
        "  print(t)"
      ],
      "execution_count": 70,
      "outputs": [
        {
          "output_type": "stream",
          "text": [
            "http://pbs.twimg.com/media/C_Udn4nUMAAgcIa.jpg\n",
            "http://pbs.twimg.com/media/C_UdnvPVYAAZbEs.jpg\n",
            "http://pbs.twimg.com/media/C_UdnvPUwAE3Dnn.jpg\n",
            "http://pbs.twimg.com/media/C_Udn2UUQAADZIS.jpg\n",
            "http://pbs.twimg.com/media/C_Udn2UUQAADZIS.jpg\n"
          ],
          "name": "stdout"
        }
      ]
    }
  ]
}